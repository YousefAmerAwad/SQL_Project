{
 "cells": [
  {
   "cell_type": "code",
   "execution_count": null,
   "metadata": {},
   "outputs": [],
   "source": [
    "import pandas as pd\n",
    "import matplotlib.pyplot as plt\n",
    "import numpy as np"
   ]
  },
  {
   "cell_type": "code",
   "execution_count": null,
   "metadata": {},
   "outputs": [],
   "source": [
    "T1 = pd.read_csv(r'C:\\Users\\Yousef Amer\\Desktop\\yousef\\my_files\\Chinook_Tabel1.csv')\n",
    "T2 = pd.read_csv(r'C:\\Users\\Yousef Amer\\Desktop\\yousef\\my_files\\Chinook_Tabel2.csv')\n"
   ]
  },
  {
   "cell_type": "code",
   "execution_count": null,
   "metadata": {},
   "outputs": [],
   "source": [
    "plt.figure(figsize=(10,6))\n",
    "x = T1['Genre'].value_counts().index\n",
    "y = T1['Number_of_customers']\n",
    "plt.bar(x,y)\n",
    "\n",
    "plt.xlabel('Genre')\n",
    "plt.ylabel('Number of customers')\n",
    "plt.title('Listerners of each genre')"
   ]
  },
  {
   "cell_type": "code",
   "execution_count": null,
   "metadata": {},
   "outputs": [],
   "source": [
    "plt.figure(figsize=(20,16))\n",
    "x = T2['Country'].value_counts().index\n",
    "y = T2['Purchases']\n",
    "plt.bar(x,y)\n",
    "\n",
    "plt.xlabel('Country')\n",
    "plt.ylabel('Purchases')\n",
    "plt.title('Top Countries Where Rock Music Is Most Popular')"
   ]
  }
 ],
 "metadata": {
  "kernelspec": {
   "display_name": "Python 3.10.5 64-bit",
   "language": "python",
   "name": "python3"
  },
  "language_info": {
   "codemirror_mode": {
    "name": "ipython",
    "version": 3
   },
   "file_extension": ".py",
   "mimetype": "text/x-python",
   "name": "python",
   "nbconvert_exporter": "python",
   "pygments_lexer": "ipython3",
   "version": "3.10.5"
  },
  "orig_nbformat": 4,
  "vscode": {
   "interpreter": {
    "hash": "82a9f30eca97479f9e0bcdf34e094686812eb001ef56033a9a73323e1120c6ad"
   }
  }
 },
 "nbformat": 4,
 "nbformat_minor": 2
}
